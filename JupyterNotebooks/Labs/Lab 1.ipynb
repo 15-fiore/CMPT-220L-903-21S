{
 "cells": [
  {
   "cell_type": "markdown",
   "metadata": {},
   "source": [
    "# Lab One\n",
    "---\n",
    "\n",
    "Ok for this lab we're going to reiterate a lot of the things that we went over in class.\n",
    "\n",
    "Our Goals are:\n",
    "- Binary Math\n",
    "- Defining Variables\n",
    "    - Primitive Types\n",
    "    - Reference Types\n",
    "- Using Math\n",
    "- Manipulating Variables"
   ]
  },
  {
   "cell_type": "markdown",
   "metadata": {},
   "source": [
    "For this section I just want you to type the answer. I know that you can just look this up but try and do the math. \r\n",
    "### What is 1000 in Binary\r\n",
    "### ^^^Answer: 8 -> ((2 ^ 0) * 0) + ((2 ^ 1) * 0) + ((2 ^ 2) * 0) + ((2 ^ 3) * 1) = 0 + 0 + 0 + 8\r\n",
    "### What is 1000 1001 in Binary (This is a byte. It's just split for readability)\r\n",
    "### ^^^Answer: 137 -> ((2 ^ 0) * 1) + ((2 ^ 1) * 0 ) + ((2 ^ 2) * 0) + ((2 ^ 3) * 1) + ((2 ^ 4) * 0) + ((2 ^ 5) * 0) + ((2 ^ 6) * 0) + ((2 ^ 7) * 1) = 1 + 0 + 0 + 8 + 0 + 0 + 0 + 128\r\n",
    "### What is 1010 1111 in Binary (This is a byte. It's just split for readability)\r\n",
    "### ^^^Answer: 175 -> ((2 ^ 0) * 1) + ((2 ^ 1) * 1) + ((2 ^ 2) * 1) + ((2 ^ 3) * 1) + ((2 ^ 4) * 0) + ((2 ^ 5) * 1) + ((2 ^ 6) * 0) + ((2 ^ 7) * 1) = 1 + 2 + 4 + 8 + 0 + 32 + 0 + 128\r\n",
    "### What is 0101 1010 in Binary (This is a byte. It's just split for readability)\r\n",
    "### ^^^Answer: 90 -> ((2 ^ 0) * 0) + ((2 ^ 1) * 1) + ((2 ^ 2) * 0) + ((2 ^ 3) * 1) + ((2 ^ 4) * 1) + ((2 ^ 5) * 0) + ((2 ^ 6) * 1) + ((2 ^ 7) * 0) = 0 + 2 + 0 + 8 + 16 + 0 + 64 + 0"
   ]
  },
  {
   "cell_type": "code",
   "execution_count": 3,
   "metadata": {},
   "outputs": [
    {
     "ename": "SyntaxError",
     "evalue": "invalid syntax (<ipython-input-3-17971447f449>, line 1)",
     "output_type": "error",
     "traceback": [
      "\u001b[1;36m  File \u001b[1;32m\"<ipython-input-3-17971447f449>\"\u001b[1;36m, line \u001b[1;32m1\u001b[0m\n\u001b[1;33m    // Define 8 variables, one of each type listed: [boolean, byte, short, int, long, float, double, char]. Print all 8 of them.\u001b[0m\n\u001b[1;37m    ^\u001b[0m\n\u001b[1;31mSyntaxError\u001b[0m\u001b[1;31m:\u001b[0m invalid syntax\n"
     ]
    }
   ],
   "source": [
    "// Define 8 variables, one of each type listed: [boolean, byte, short, int, long, float, double, char]. Print all 8 of them.\r\n",
    "\r\n",
    "\r\n",
    "// Definition of variables of each data type\r\n",
    "boolean bool = true;\r\n",
    "byte bitty = 25;\r\n",
    "short lilnum = 12345;\r\n",
    "int ints = 7;\r\n",
    "long longly = 16;\r\n",
    "float lofty = 0.12f;\r\n",
    "double doubling = 0.18;\r\n",
    "char letter_of_choice = 'd';\r\n",
    "\r\n",
    "// Printing of each variable \r\n",
    "System.out.println(bool);\r\n",
    "System.out.println(bitty);\r\n",
    "System.out.println(lilnum);\r\n",
    "System.out.println(ints);\r\n",
    "System.out.println(longly);\r\n",
    "System.out.println(lofty);\r\n",
    "System.out.println(doubling);\r\n",
    "System.out.println(letter_of_choice);"
   ]
  },
  {
   "cell_type": "code",
   "execution_count": null,
   "metadata": {},
   "outputs": [],
   "source": [
    "// Make me a list of any type\r\n",
    "\r\n",
    "Integer[] num_even = {0, 2, 4, 6, 8};"
   ]
  },
  {
   "cell_type": "code",
   "execution_count": null,
   "metadata": {},
   "outputs": [],
   "source": [
    "// With whatever variables you'd like demonstrate the following: [Addition, Subtraction, Division, Multiplication, Modulo]. Print all 5.\r\n",
    "\r\n",
    "// Definition of variables (for operation)\r\n",
    "int x = 20;\r\n",
    "int z = 10;\r\n",
    "\r\n",
    "// Printing of variables, and operations with variables\r\n",
    "System.out.println(\"First Variable: x = 20\");\r\n",
    "System.out.println(\"Second Variable: z = 10\");\r\n",
    "System.out.println(\"x + z = \" + (x + z));\r\n",
    "System.out.println(\"x - z = \" + (x - z));\r\n",
    "System.out.println(\"x * z = \" + (x * z));\r\n",
    "System.out.println(\"x /z = \" + (x / z));\r\n",
    "System.out.println(\"x % z = \" + (x % z));"
   ]
  },
  {
   "cell_type": "code",
   "execution_count": null,
   "metadata": {},
   "outputs": [],
   "source": [
    "// Using 2 variables and addition print the number 57\r\n",
    "\r\n",
    "// Definition of variables (for addition)\r\n",
    "int int1 = 42;\r\n",
    "int int2 = 15;\r\n",
    "\r\n",
    "// Priting of addition operation b/w two pre-defined variables\r\n",
    "System.out.println(\"int1 + int2 = \" + (int1 + int2));"
   ]
  },
  {
   "cell_type": "code",
   "execution_count": null,
   "metadata": {},
   "outputs": [],
   "source": [
    "// Define a variable and print it out. Then alter the same variable and print it out. This can be through string concatenation or addition, etc.\r\n",
    "\r\n",
    "// Definition of variable\r\n",
    "int some_random_number_to_modify = 3;\r\n",
    "\r\n",
    "// Priting of variable (from above)\r\n",
    "System.out.println(\"Random Number = \" + some_random_number_to_modify);\r\n",
    "\r\n",
    "// Priting of modified varialbe (using addition of 2,048)\r\n",
    "System.out.println(\"Random Number + 2048 = \" + (some_random_number_to_modify + 2048));"
   ]
  }
 ],
 "metadata": {
  "kernelspec": {
   "display_name": "Java",
   "language": "java",
   "name": "java"
  },
  "language_info": {
   "codemirror_mode": {
    "name": "ipython",
    "version": 3
   },
   "file_extension": ".py",
   "mimetype": "text/x-python",
   "name": "python",
   "nbconvert_exporter": "python",
   "pygments_lexer": "ipython3",
   "version": "3.9.1"
  },
  "orig_nbformat": 2
 },
 "nbformat": 4,
 "nbformat_minor": 2
}