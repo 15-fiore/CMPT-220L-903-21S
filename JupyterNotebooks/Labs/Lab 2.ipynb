{
 "cells": [
  {
   "cell_type": "markdown",
   "metadata": {},
   "source": [
    "# Lab Two\n",
    "---\n",
    "\n",
    "Ok for this lab we're going to reiterate a lot of the things that we went over in class.\n",
    "\n",
    "Our Goals are:\n",
    "- Conditionals\n",
    "    - If\n",
    "    - Else\n",
    "    - Else If"
   ]
  },
  {
   "cell_type": "code",
   "execution_count": 1,
   "metadata": {},
   "outputs": [
    {
     "name": "stdout",
     "output_type": "stream",
     "text": [
      "Hello there! Welcome to today's CMPT 220L class!\n"
     ]
    }
   ],
   "source": [
    "// Make an if statement\r\n",
    "\r\n",
    "boolean present = true;\r\n",
    "\r\n",
    "if (present = true) {\r\n",
    "\tSystem.out.println(\"Hello there! Welcome to today's CMPT 220L class!\");\r\n",
    "\r\n",
    "}\r\n",
    "\r\n"
   ]
  },
  {
   "cell_type": "code",
   "execution_count": 24,
   "metadata": {},
   "outputs": [
    {
     "name": "stdout",
     "output_type": "stream",
     "text": [
      "You are looking good! No need to seek medical help at this moment.\n"
     ]
    }
   ],
   "source": [
    "// Make an if, else statement where the else statement triggers\r\n",
    "\r\n",
    "boolean GoodHealth = false;\r\n",
    "\r\n",
    "if (GoodHealth = true) {\r\n",
    "\tSystem.out.println(\"You are looking good! No need to seek medical help at this moment.\");\r\n",
    "\r\n",
    "} else  {\r\n",
    "    System.out.println(\"Hmmm...something does not look right. Please talk to your doctor about the issues presented in this form\");\r\n",
    "\r\n",
    "}"
   ]
  },
  {
   "cell_type": "code",
   "execution_count": 32,
   "metadata": {},
   "outputs": [
    {
     "name": "stdout",
     "output_type": "stream",
     "text": [
      "That's it! You got the question right - GREAT JOB!\n"
     ]
    }
   ],
   "source": [
    "// Make an if, else if, else statement where the else if statement triggers\r\n",
    "\r\n",
    "int Answer = 5;\r\n",
    "\r\n",
    "if (Answer == 5) {\r\n",
    "\tSystem.out.println(\"That's it! You got the question right - GREAT JOB!\");\r\n",
    "\r\n",
    "}\r\n",
    "else if (Answer == 4) {\r\n",
    "    System.out.println(\"Darn! Your answer is incorrect. Try to get the next one right!\");\r\n",
    "} else if (Answer == 2) {\r\n",
    "    System.out.println(\"Darn! Your answer is incorrect. Try to get the next one right!\");\r\n",
    "} else if (Answer == -1) {\r\n",
    "    System.out.println(\"Darn! Your answer is incorrect. Try to get the next one right!\");\r\n",
    "} else  {\r\n",
    "    System.out.println(\"Hmmm...something does not look right. We cannot accept that answer.\");\r\n",
    "\r\n",
    "}"
   ]
  },
  {
   "cell_type": "code",
   "execution_count": 44,
   "metadata": {},
   "outputs": [
    {
     "name": "stdout",
     "output_type": "stream",
     "text": [
      "That's a shame - that couple cannot be recognized.\n"
     ]
    }
   ],
   "source": [
    "// Make 2 variables and use them in an if else conditional\r\n",
    "\r\n",
    "String name_1 = \"Mike\";\r\n",
    "String name_2 = \"Rachael\";\r\n",
    "\r\n",
    "if (name_1 == \"Daniel\")  {  \r\n",
    "} if (name_2 == \"Carol\")  {\r\n",
    "    System.out.println(\"Oh my! This computer recognizes this couple! They plan on going to prom together this year!\");\r\n",
    "\r\n",
    "} else  {\r\n",
    "    System.out.println(\"That's a shame - that couple cannot be recognized.\");\r\n",
    "}\r\n"
   ]
  },
  {
   "cell_type": "code",
   "execution_count": 38,
   "metadata": {},
   "outputs": [
    {
     "name": "stdout",
     "output_type": "stream",
     "text": [
      "Okay - after your test results and the rules of this class, both student will recieve a grade of 'B'.\n"
     ]
    }
   ],
   "source": [
    "// Make an if statement using 2 variables and an AND(&&) statement\r\n",
    "\r\n",
    "int Test_score_1 = 98;\r\n",
    "int Test_score_2 = 74;\r\n",
    "\r\n",
    "if (((Test_score_1 + Test_score_2) / 2) >=80 && ((Test_score_1 + Test_score_2) / 2) <90)  {\r\n",
    "    System.out.println(\"Okay - after your test results and the rules of this class, both student will recieve a grade of 'B'.\");\r\n",
    "}"
   ]
  },
  {
   "cell_type": "code",
   "execution_count": 40,
   "metadata": {},
   "outputs": [
    {
     "name": "stdout",
     "output_type": "stream",
     "text": [
      "Oh no! Due to your recent close exposure with a community member positive for COVID-19 and/or your own positive COVID-19 test, you and anyone you live with should individually isolate for the next 10-14 days. Do not leave your room and monitor any symptoms that arise.\n"
     ]
    }
   ],
   "source": [
    "// Make an if statement using 2 variables and an OR(||) statement\r\n",
    "\r\n",
    "String Exposure = \"y\";\r\n",
    "String Test = \"negative\";\r\n",
    "\r\n",
    "if (Exposure == \"y\" || Test == \"positive\")  {\r\n",
    "    System.out.println(\"Oh no! Due to your recent close exposure with a community member positive for COVID-19 and/or your own positive COVID-19 test, you and anyone you live with should individually isolate for the next 10-14 days. Do not leave your room and monitor any symptoms that arise.\");\r\n",
    "\r\n",
    "}"
   ]
  }
 ],
 "metadata": {
  "kernelspec": {
   "display_name": "Java",
   "language": "java",
   "name": "java"
  },
  "language_info": {
   "codemirror_mode": "java",
   "file_extension": ".jshell",
   "mimetype": "text/x-java-source",
   "name": "Java",
   "pygments_lexer": "java",
   "version": "15.0.2+7-27"
  },
  "orig_nbformat": 2
 },
 "nbformat": 4,
 "nbformat_minor": 2
}